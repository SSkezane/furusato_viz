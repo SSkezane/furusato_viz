{
 "cells": [
  {
   "cell_type": "code",
   "execution_count": 22,
   "metadata": {},
   "outputs": [
    {
     "name": "stdout",
     "output_type": "stream",
     "text": [
      "自治体名    object\n",
      "引取数      int64\n",
      "殺処分数     int64\n",
      "dtype: object\n",
      "            自治体名            引取数           殺処分数\n",
      "0  <class 'str'>  <class 'int'>  <class 'int'>\n",
      "1  <class 'str'>  <class 'int'>  <class 'int'>\n",
      "2  <class 'str'>  <class 'int'>  <class 'int'>\n",
      "3  <class 'str'>  <class 'int'>  <class 'int'>\n",
      "\n",
      "pre            object\n",
      "寄附件数            int64\n",
      "寄附金額            int64\n",
      "寄附件数_県外         int64\n",
      "寄附金額_県外         int64\n",
      "返礼品の調達に係る費用     int64\n",
      "返礼品の送付に係る費用     int64\n",
      "広報に係る費用         int64\n",
      "決済等に係る費用        int64\n",
      "事務に係る費用         int64\n",
      "その他費用           int64\n",
      "広報活動            int64\n",
      "呼びかけ            int64\n",
      "見直し             int64\n",
      "イベントPR          int64\n",
      "決済              int64\n",
      "用途選択            int64\n",
      "分野を選択           int64\n",
      "具体的な事業を選択       int64\n",
      "クラウドファンディング     int64\n",
      "まちづくり・市民活動      int64\n",
      "スポーツ・文化振興       int64\n",
      "健康・医療・福祉        int64\n",
      "環境・衛生           int64\n",
      "教育・人づくり         int64\n",
      "子ども・子育て         int64\n",
      "地域・産業振興         int64\n",
      "観光・交流・定住促進      int64\n",
      "安心・安全・防災        int64\n",
      "災害支援・復興         int64\n",
      "dtype: object\n",
      "             pre           寄附件数           寄附金額        寄附件数_県外        寄附金額_県外  \\\n",
      "0  <class 'str'>  <class 'int'>  <class 'int'>  <class 'int'>  <class 'int'>   \n",
      "1  <class 'str'>  <class 'int'>  <class 'int'>  <class 'int'>  <class 'int'>   \n",
      "2  <class 'str'>  <class 'int'>  <class 'int'>  <class 'int'>  <class 'int'>   \n",
      "3  <class 'str'>  <class 'int'>  <class 'int'>  <class 'int'>  <class 'int'>   \n",
      "\n",
      "     返礼品の調達に係る費用    返礼品の送付に係る費用        広報に係る費用       決済等に係る費用        事務に係る費用  \\\n",
      "0  <class 'int'>  <class 'int'>  <class 'int'>  <class 'int'>  <class 'int'>   \n",
      "1  <class 'int'>  <class 'int'>  <class 'int'>  <class 'int'>  <class 'int'>   \n",
      "2  <class 'int'>  <class 'int'>  <class 'int'>  <class 'int'>  <class 'int'>   \n",
      "3  <class 'int'>  <class 'int'>  <class 'int'>  <class 'int'>  <class 'int'>   \n",
      "\n",
      "   ...     まちづくり・市民活動      スポーツ・文化振興       健康・医療・福祉          環境・衛生  \\\n",
      "0  ...  <class 'int'>  <class 'int'>  <class 'int'>  <class 'int'>   \n",
      "1  ...  <class 'int'>  <class 'int'>  <class 'int'>  <class 'int'>   \n",
      "2  ...  <class 'int'>  <class 'int'>  <class 'int'>  <class 'int'>   \n",
      "3  ...  <class 'int'>  <class 'int'>  <class 'int'>  <class 'int'>   \n",
      "\n",
      "         教育・人づくり        子ども・子育て        地域・産業振興     観光・交流・定住促進       安心・安全・防災  \\\n",
      "0  <class 'int'>  <class 'int'>  <class 'int'>  <class 'int'>  <class 'int'>   \n",
      "1  <class 'int'>  <class 'int'>  <class 'int'>  <class 'int'>  <class 'int'>   \n",
      "2  <class 'int'>  <class 'int'>  <class 'int'>  <class 'int'>  <class 'int'>   \n",
      "3  <class 'int'>  <class 'int'>  <class 'int'>  <class 'int'>  <class 'int'>   \n",
      "\n",
      "         災害支援・復興  \n",
      "0  <class 'int'>  \n",
      "1  <class 'int'>  \n",
      "2  <class 'int'>  \n",
      "3  <class 'int'>  \n",
      "\n",
      "[4 rows x 30 columns]\n"
     ]
    }
   ],
   "source": [
    "import pandas as pd\n",
    "import numpy as np\n",
    "import matplotlib.pyplot as plt\n",
    "%matplotlib inline\n",
    "\n",
    "df_killing = pd.read_csv('data/cleaned_killing_H30.csv')\n",
    "df_soumu = pd.read_csv('data/cleaned_soumu_H30.csv')\n",
    "\n",
    "print(df_killing.dtypes)\n",
    "print(df_killing.iloc[range(0,4)].applymap(type))\n",
    "print()\n",
    "print(df_soumu.dtypes)\n",
    "print(df_soumu.iloc[range(0,4)].applymap(type))"
   ]
  },
  {
   "cell_type": "code",
   "execution_count": 23,
   "metadata": {
    "scrolled": true
   },
   "outputs": [
    {
     "name": "stdout",
     "output_type": "stream",
     "text": [
      "Index(['寄附件数', '寄附金額', '寄附件数_県外', '寄附金額_県外', '返礼品の調達に係る費用', '返礼品の送付に係る費用',\n",
      "       '広報に係る費用', '決済等に係る費用', '事務に係る費用', 'その他費用', '広報活動', '呼びかけ', '見直し',\n",
      "       'イベントPR', '決済', '用途選択', '分野を選択', '具体的な事業を選択', 'クラウドファンディング',\n",
      "       'まちづくり・市民活動', 'スポーツ・文化振興', '健康・医療・福祉', '環境・衛生', '教育・人づくり', '子ども・子育て',\n",
      "       '地域・産業振興', '観光・交流・定住促進', '安心・安全・防災', '災害支援・復興', '引取数', '殺処分数'],\n",
      "      dtype='object')\n",
      "\n",
      "寄附件数           0\n",
      "寄附金額           0\n",
      "寄附件数_県外        0\n",
      "寄附金額_県外        0\n",
      "返礼品の調達に係る費用    0\n",
      "返礼品の送付に係る費用    0\n",
      "広報に係る費用        0\n",
      "決済等に係る費用       0\n",
      "事務に係る費用        0\n",
      "その他費用          0\n",
      "広報活動           0\n",
      "呼びかけ           0\n",
      "見直し            0\n",
      "イベントPR         0\n",
      "決済             0\n",
      "用途選択           0\n",
      "分野を選択          0\n",
      "具体的な事業を選択      0\n",
      "クラウドファンディング    0\n",
      "まちづくり・市民活動     0\n",
      "スポーツ・文化振興      0\n",
      "健康・医療・福祉       0\n",
      "環境・衛生          0\n",
      "教育・人づくり        0\n",
      "子ども・子育て        0\n",
      "地域・産業振興        0\n",
      "観光・交流・定住促進     0\n",
      "安心・安全・防災       0\n",
      "災害支援・復興        0\n",
      "引取数            0\n",
      "殺処分数           0\n",
      "dtype: int64\n"
     ]
    }
   ],
   "source": [
    "#2つのデータを連結\n",
    "df = pd.concat([df_soumu, df_killing], axis=1)\n",
    "df2 = df.drop(['pre', '自治体名'], axis=1)\n",
    "\n",
    "print(df2.columns)\n",
    "print()\n",
    "print(df2.isnull().sum())"
   ]
  },
  {
   "cell_type": "code",
   "execution_count": 24,
   "metadata": {
    "scrolled": true
   },
   "outputs": [
    {
     "name": "stdout",
     "output_type": "stream",
     "text": [
      "寄附件数           False\n",
      "寄附金額           False\n",
      "寄附件数_県外        False\n",
      "寄附金額_県外        False\n",
      "返礼品の調達に係る費用    False\n",
      "返礼品の送付に係る費用    False\n",
      "広報に係る費用        False\n",
      "決済等に係る費用       False\n",
      "事務に係る費用        False\n",
      "その他費用          False\n",
      "広報活動           False\n",
      "呼びかけ           False\n",
      "見直し            False\n",
      "イベントPR         False\n",
      "決済             False\n",
      "用途選択           False\n",
      "分野を選択          False\n",
      "具体的な事業を選択      False\n",
      "クラウドファンディング    False\n",
      "まちづくり・市民活動     False\n",
      "スポーツ・文化振興      False\n",
      "健康・医療・福祉       False\n",
      "環境・衛生          False\n",
      "教育・人づくり        False\n",
      "子ども・子育て        False\n",
      "地域・産業振興        False\n",
      "観光・交流・定住促進     False\n",
      "安心・安全・防災       False\n",
      "災害支援・復興        False\n",
      "引取数             True\n",
      "殺処分数           False\n",
      "Name: 引取数, dtype: bool\n",
      "\n",
      "寄附件数           False\n",
      "寄附金額           False\n",
      "寄附件数_県外        False\n",
      "寄附金額_県外        False\n",
      "返礼品の調達に係る費用    False\n",
      "返礼品の送付に係る費用    False\n",
      "広報に係る費用        False\n",
      "決済等に係る費用       False\n",
      "事務に係る費用        False\n",
      "その他費用          False\n",
      "広報活動           False\n",
      "呼びかけ           False\n",
      "見直し            False\n",
      "イベントPR         False\n",
      "決済             False\n",
      "用途選択           False\n",
      "分野を選択          False\n",
      "具体的な事業を選択      False\n",
      "クラウドファンディング    False\n",
      "まちづくり・市民活動     False\n",
      "スポーツ・文化振興      False\n",
      "健康・医療・福祉       False\n",
      "環境・衛生          False\n",
      "教育・人づくり        False\n",
      "子ども・子育て        False\n",
      "地域・産業振興        False\n",
      "観光・交流・定住促進     False\n",
      "安心・安全・防災       False\n",
      "災害支援・復興        False\n",
      "引取数            False\n",
      "殺処分数            True\n",
      "Name: 殺処分数, dtype: bool\n"
     ]
    }
   ],
   "source": [
    "#VIF統計量を出力\n",
    "r = df2.corr()\n",
    "VIF = 1 /(1- r**2)\n",
    "\n",
    "print(VIF.iloc[-2] >5)\n",
    "print()\n",
    "print(VIF.iloc[-1] >5)\n",
    "\n",
    "#同じ項目を除き全てがFalse -> 取引数・殺処分と他項目の間で多重共線性はみられない"
   ]
  },
  {
   "cell_type": "code",
   "execution_count": 58,
   "metadata": {},
   "outputs": [],
   "source": [
    "#線形モデルの構築\n",
    "from sklearn.linear_model import LinearRegression\n",
    "\n",
    "x1 = pd.DataFrame(df2['引取数'])\n",
    "x2 = pd.DataFrame(df2['殺処分数'])\n",
    "y = pd.DataFrame(df2['寄附金額'])\n",
    "\n",
    "model1 = LinearRegression().fit(x1, y)\n",
    "model2 = LinearRegression().fit(x2, y)"
   ]
  },
  {
   "cell_type": "code",
   "execution_count": 59,
   "metadata": {},
   "outputs": [
    {
     "data": {
      "text/plain": [
       "[<matplotlib.lines.Line2D at 0x7fa407624c50>]"
      ]
     },
     "execution_count": 59,
     "metadata": {},
     "output_type": "execute_result"
    },
    {
     "data": {
      "image/png": "[encoded data removed]",
      "text/plain": [
       "<Figure size 432x288 with 1 Axes>"
      ]
     },
     "metadata": {
      "needs_background": "light"
     },
     "output_type": "display_data"
    }
   ],
   "source": [
    "#引取数の線形回帰\n",
    "plt.scatter(df2['引取数'], df2['寄附金額'])\n",
    "plt.plot(x1, model1.predict(x1))"
   ]
  },
  {
   "cell_type": "code",
   "execution_count": 60,
   "metadata": {},
   "outputs": [
    {
     "data": {
      "text/plain": [
       "[<matplotlib.lines.Line2D at 0x7fa407632550>]"
      ]
     },
     "execution_count": 60,
     "metadata": {},
     "output_type": "execute_result"
    },
    {
     "data": {
      "image/png": "[encoded data removed]",
      "text/plain": [
       "<Figure size 432x288 with 1 Axes>"
      ]
     },
     "metadata": {
      "needs_background": "light"
     },
     "output_type": "display_data"
    }
   ],
   "source": [
    "#殺処分数の線形回帰\n",
    "plt.scatter(df2['殺処分数'], df2['寄附金額'])\n",
    "plt.plot(x2, model2.predict(x2))"
   ]
  },
  {
   "cell_type": "code",
   "execution_count": 65,
   "metadata": {},
   "outputs": [
    {
     "name": "stdout",
     "output_type": "stream",
     "text": [
      "決定係数_引取数: 0.01784759055971652\n",
      "決定係数_殺処分数: 0.013172979309087118\n"
     ]
    }
   ],
   "source": [
    "from sklearn.metrics import r2_score\n",
    "R2_1 = model1.predict(x1)\n",
    "R2_2 = model2.predict(x2)\n",
    "\n",
    "print(\"決定係数_引取数: \"+str(r2_score(y, R2_1)))\n",
    "print(\"決定係数_殺処分数: \"+str(r2_score(y, R2_2)))"
   ]
  },
  {
   "cell_type": "code",
   "execution_count": null,
   "metadata": {},
   "outputs": [],
   "source": []
  }
 ],
 "metadata": {
  "kernelspec": {
   "display_name": "py37_visualizer",
   "language": "python",
   "name": "py37_visualizer"
  },
  "language_info": {
   "codemirror_mode": {
    "name": "ipython",
    "version": 3
   },
   "file_extension": ".py",
   "mimetype": "text/x-python",
   "name": "python",
   "nbconvert_exporter": "python",
   "pygments_lexer": "ipython3",
   "version": "3.7.9"
  }
 },
 "nbformat": 4,
 "nbformat_minor": 4
}
