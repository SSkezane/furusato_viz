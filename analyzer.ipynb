{
 "cells": [
  {
   "cell_type": "code",
   "execution_count": 1,
   "metadata": {},
   "outputs": [],
   "source": [
    "import numpy as np\n",
    "import pandas as pd\n",
    "import matplotlib.pyplot as plt\n",
    "%matplotlib inline"
   ]
  },
  {
   "cell_type": "code",
   "execution_count": 2,
   "metadata": {},
   "outputs": [],
   "source": [
    "df_soumu=pd.read_csv('data/cleaned_data/cleaned_soumu2_H30.csv')\n",
    "df_killing = pd.read_csv('data/cleaned_data/cleaned_killing_H30.csv')"
   ]
  },
  {
   "cell_type": "code",
   "execution_count": 3,
   "metadata": {},
   "outputs": [
    {
     "data": {
      "text/html": [
       "<div>\n",
       "<style scoped>\n",
       "    .dataframe tbody tr th:only-of-type {\n",
       "        vertical-align: middle;\n",
       "    }\n",
       "\n",
       "    .dataframe tbody tr th {\n",
       "        vertical-align: top;\n",
       "    }\n",
       "\n",
       "    .dataframe thead th {\n",
       "        text-align: right;\n",
       "    }\n",
       "</style>\n",
       "<table border=\"1\" class=\"dataframe\">\n",
       "  <thead>\n",
       "    <tr style=\"text-align: right;\">\n",
       "      <th></th>\n",
       "      <th>寄附件数</th>\n",
       "      <th>寄附金額</th>\n",
       "      <th>寄附件数_県外</th>\n",
       "      <th>寄附金額_県外</th>\n",
       "      <th>返礼品の調達に係る費用</th>\n",
       "      <th>返礼品の送付に係る費用</th>\n",
       "      <th>広報に係る費用</th>\n",
       "      <th>決済等に係る費用</th>\n",
       "      <th>事務に係る費用</th>\n",
       "      <th>引取数</th>\n",
       "      <th>殺処分数</th>\n",
       "    </tr>\n",
       "  </thead>\n",
       "  <tbody>\n",
       "    <tr>\n",
       "      <th>0</th>\n",
       "      <td>3168622</td>\n",
       "      <td>50358549924</td>\n",
       "      <td>3118714</td>\n",
       "      <td>48987269521</td>\n",
       "      <td>16437033669</td>\n",
       "      <td>6419762169</td>\n",
       "      <td>309522663</td>\n",
       "      <td>695831800</td>\n",
       "      <td>4446589374</td>\n",
       "      <td>1669</td>\n",
       "      <td>211</td>\n",
       "    </tr>\n",
       "    <tr>\n",
       "      <th>1</th>\n",
       "      <td>215037</td>\n",
       "      <td>2843026253</td>\n",
       "      <td>196812</td>\n",
       "      <td>2486528755</td>\n",
       "      <td>758076684</td>\n",
       "      <td>281172254</td>\n",
       "      <td>43756185</td>\n",
       "      <td>31891470</td>\n",
       "      <td>304998102</td>\n",
       "      <td>780</td>\n",
       "      <td>522</td>\n",
       "    </tr>\n",
       "    <tr>\n",
       "      <th>2</th>\n",
       "      <td>296086</td>\n",
       "      <td>5049679191</td>\n",
       "      <td>295478</td>\n",
       "      <td>5006185745</td>\n",
       "      <td>1673287712</td>\n",
       "      <td>444810138</td>\n",
       "      <td>105250639</td>\n",
       "      <td>45270428</td>\n",
       "      <td>549394411</td>\n",
       "      <td>821</td>\n",
       "      <td>303</td>\n",
       "    </tr>\n",
       "    <tr>\n",
       "      <th>3</th>\n",
       "      <td>157533</td>\n",
       "      <td>4872952287</td>\n",
       "      <td>157022</td>\n",
       "      <td>4828954362</td>\n",
       "      <td>1736527647</td>\n",
       "      <td>244716518</td>\n",
       "      <td>46904894</td>\n",
       "      <td>79538407</td>\n",
       "      <td>290188123</td>\n",
       "      <td>2017</td>\n",
       "      <td>1093</td>\n",
       "    </tr>\n",
       "    <tr>\n",
       "      <th>4</th>\n",
       "      <td>179663</td>\n",
       "      <td>2857455295</td>\n",
       "      <td>179588</td>\n",
       "      <td>2853066795</td>\n",
       "      <td>974141002</td>\n",
       "      <td>249073964</td>\n",
       "      <td>21498580</td>\n",
       "      <td>22880907</td>\n",
       "      <td>264896477</td>\n",
       "      <td>494</td>\n",
       "      <td>285</td>\n",
       "    </tr>\n",
       "  </tbody>\n",
       "</table>\n",
       "</div>"
      ],
      "text/plain": [
       "      寄附件数         寄附金額  寄附件数_県外      寄附金額_県外  返礼品の調達に係る費用  返礼品の送付に係る費用  \\\n",
       "0  3168622  50358549924  3118714  48987269521  16437033669   6419762169   \n",
       "1   215037   2843026253   196812   2486528755    758076684    281172254   \n",
       "2   296086   5049679191   295478   5006185745   1673287712    444810138   \n",
       "3   157533   4872952287   157022   4828954362   1736527647    244716518   \n",
       "4   179663   2857455295   179588   2853066795    974141002    249073964   \n",
       "\n",
       "     広報に係る費用   決済等に係る費用     事務に係る費用   引取数  殺処分数  \n",
       "0  309522663  695831800  4446589374  1669   211  \n",
       "1   43756185   31891470   304998102   780   522  \n",
       "2  105250639   45270428   549394411   821   303  \n",
       "3   46904894   79538407   290188123  2017  1093  \n",
       "4   21498580   22880907   264896477   494   285  "
      ]
     },
     "execution_count": 3,
     "metadata": {},
     "output_type": "execute_result"
    }
   ],
   "source": [
    "#2つのデータを連結\n",
    "df = pd.concat([df_soumu, df_killing], axis=1)\n",
    "df2 = df.drop(['pre', '自治体名'], axis=1)\n",
    "\n",
    "df2.head()"
   ]
  },
  {
   "cell_type": "code",
   "execution_count": 4,
   "metadata": {},
   "outputs": [
    {
     "name": "stdout",
     "output_type": "stream",
     "text": [
      "寄附件数           1.003374\n",
      "寄附金額           1.008153\n",
      "寄附件数_県外        1.003452\n",
      "寄附金額_県外        1.007706\n",
      "返礼品の調達に係る費用    1.011647\n",
      "返礼品の送付に係る費用    1.000754\n",
      "広報に係る費用        1.013356\n",
      "決済等に係る費用       1.001380\n",
      "事務に係る費用        1.006096\n",
      "引取数                 inf\n",
      "殺処分数           1.607244\n",
      "Name: 引取数, dtype: float64\n",
      "\n",
      "寄附件数           1.009151\n",
      "寄附金額           1.006570\n",
      "寄附件数_県外        1.008250\n",
      "寄附金額_県外        1.005644\n",
      "返礼品の調達に係る費用    1.004164\n",
      "返礼品の送付に係る費用    1.008302\n",
      "広報に係る費用        1.005641\n",
      "決済等に係る費用       1.020555\n",
      "事務に係る費用        1.015594\n",
      "引取数            1.607244\n",
      "殺処分数                inf\n",
      "Name: 殺処分数, dtype: float64\n"
     ]
    }
   ],
   "source": [
    "#全てのデータを標準化\n",
    "df3 = (df2 - df2.min())/(df2.max()-df2.min())\n",
    "\n",
    "#VIF統計量を調査 -> 引取数や殺処分数に多重共線性はみられない\n",
    "r = df3.corr()\n",
    "VIF = 1 /(1- r**2)\n",
    "\n",
    "print(VIF.iloc[-2])\n",
    "print()\n",
    "print(VIF.iloc[-1])"
   ]
  },
  {
   "cell_type": "code",
   "execution_count": 5,
   "metadata": {},
   "outputs": [
    {
     "name": "stdout",
     "output_type": "stream",
     "text": [
      "決定係数(引取数_寄附金額: 0.008087407761204424\n",
      "決定係数(引取数_寄附件数: 0.003363012172610147\n",
      "決定係数(引取数_事務に係る費用: 0.006059157178656349\n",
      "決定係数(殺処分数_寄附金額: 0.0065275362694457995\n",
      "決定係数(殺処分数_寄附件数: 0.009067654891683263\n",
      "決定係数(殺処分数_事務に係る費用: 0.015354098401808791\n"
     ]
    },
    {
     "data": {
      "image/png": "[encoded data removed]",
      "text/plain": [
       "<Figure size 864x576 with 6 Axes>"
      ]
     },
     "metadata": {
      "needs_background": "light"
     },
     "output_type": "display_data"
    }
   ],
   "source": [
    "import matplotlib.font_manager as fm\n",
    "from sklearn.linear_model import LinearRegression\n",
    "from sklearn.metrics import r2_score\n",
    "\n",
    "#フォントの設定\n",
    "font_path = 'font/ipaexg.ttf'\n",
    "fp = fm.FontProperties(fname=font_path, size=14)\n",
    "\n",
    "#グラフの設定\n",
    "fig = plt.figure(figsize=(12,8))\n",
    "plt.subplots_adjust(wspace=0.4, hspace=0.4)\n",
    "\n",
    "#データの要素\n",
    "killing = ['引取数', '殺処分数']\n",
    "soumu = ['寄附金額', '寄附件数', '事務に係る費用']\n",
    "ax = []\n",
    "i = 0\n",
    "\n",
    "#x, y, modelは上書き、axはリストに追加\n",
    "for k, K in enumerate(killing):\n",
    "    x = pd.DataFrame(df3[K])\n",
    "    \n",
    "    for s, S in enumerate(soumu):\n",
    "        y = pd.DataFrame(df3[S])\n",
    "        \n",
    "\n",
    "        #線形モデルの構築\n",
    "        model = LinearRegression().fit(x, y)\n",
    "        \n",
    "        #サブプロットの設定\n",
    "        ax.append(fig.add_subplot(2, 3, i+1))\n",
    "        ax[i].grid(True)\n",
    "        ax[i].set_xlabel(K, fontproperties=fp)\n",
    "        ax[i].set_ylabel(S, fontproperties=fp)\n",
    "\n",
    "        #散布図を表示\n",
    "        ax[i].scatter(df3[K], df3[S])\n",
    "        ax[i].plot(x, model.predict(x))\n",
    "\n",
    "        #決定係数の算出\n",
    "        R2 = model.predict(x)\n",
    "        print('決定係数('+str(K)+'_'+str(S)+': '+str(r2_score(y, R2)))\n",
    "        i+=1\n",
    "        \n",
    "plt.show()"
   ]
  },
  {
   "cell_type": "code",
   "execution_count": null,
   "metadata": {},
   "outputs": [],
   "source": []
  }
 ],
 "metadata": {
  "kernelspec": {
   "display_name": "py37_visualizer",
   "language": "python",
   "name": "py37_visualizer"
  },
  "language_info": {
   "codemirror_mode": {
    "name": "ipython",
    "version": 3
   },
   "file_extension": ".py",
   "mimetype": "text/x-python",
   "name": "python",
   "nbconvert_exporter": "python",
   "pygments_lexer": "ipython3",
   "version": "3.7.9"
  }
 },
 "nbformat": 4,
 "nbformat_minor": 4
}
