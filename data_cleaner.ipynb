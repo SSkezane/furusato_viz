{
 "cells": [
  {
   "cell_type": "code",
   "execution_count": 1,
   "metadata": {},
   "outputs": [
    {
     "name": "stdout",
     "output_type": "stream",
     "text": [
      "  自治体名    引取数   殺処分数\n",
      "0  北海道  1,669    211\n",
      "1  青森県    780    522\n",
      "2  岩手県    821    303\n",
      "3  宮城県  2,017  1,093\n",
      "4  秋田県    494    285\n",
      "\n",
      "   pre city     寄附件数          寄附金額  寄附件数_県外       寄附金額_県外   返礼品の調達に係る費用  \\\n",
      "0  北海道  NaN   3,996    88,327,258    3,400    74,969,494       405,417    \n",
      "1  北海道  札幌市   1,219   505,546,491    1,000   388,025,550     1,580,261    \n",
      "2  北海道  函館市  10,744   340,921,111   10,724   337,346,111    79,926,158    \n",
      "3  北海道  小樽市   7,644   176,349,252    7,625   133,739,252    34,748,000    \n",
      "4  北海道  旭川市  26,142   596,160,916   26,103   483,088,500   118,669,922    \n",
      "\n",
      "   返礼品の送付に係る費用     広報に係る費用    決済等に係る費用  ... まちづくり・市民活動 スポーツ・文化振興 健康・医療・福祉  \\\n",
      "0     254,736      48,600     963,141   ...        NaN       NaN      NaN   \n",
      "1     411,966     553,150     312,404   ...          ○         ○        ○   \n",
      "2  18,205,595   5,017,680   9,053,126   ...          ○       NaN        ○   \n",
      "3   9,281,748     100,000   1,243,006   ...        NaN       NaN      NaN   \n",
      "4  17,970,132   2,946,466   2,214,278   ...        NaN       NaN      NaN   \n",
      "\n",
      "  環境・衛生 教育・人づくり 子ども・子育て 地域・産業振興 観光・交流・定住促進 安心・安全・防災 災害支援・復興  \n",
      "0   NaN     NaN     NaN     NaN        NaN      NaN     NaN  \n",
      "1     ○       ○       ○     NaN          ○      NaN       ○  \n",
      "2   NaN       ○       ○       ○          ○        ○     NaN  \n",
      "3   NaN     NaN     NaN     NaN        NaN      NaN     NaN  \n",
      "4   NaN     NaN     NaN     NaN        NaN      NaN     NaN  \n",
      "\n",
      "[5 rows x 31 columns]\n"
     ]
    }
   ],
   "source": [
    "#データに含まれるNaNの数を調べる\n",
    "import pandas as pd\n",
    "import numpy as np\n",
    "\n",
    "df_killing = pd.read_csv('data/conversion_data/killing_H30.csv', usecols=['自治体名', '引取数', '殺処分数'])\n",
    "print(df_killing.head())\n",
    "print()\n",
    "\n",
    "df_soumu = pd.read_csv('data/conversion_data/soumu_H30.csv', usecols=lambda x: x not in ['code'])\n",
    "print(df_soumu.head())"
   ]
  },
  {
   "cell_type": "code",
   "execution_count": 5,
   "metadata": {},
   "outputs": [
    {
     "name": "stdout",
     "output_type": "stream",
     "text": [
      "自治体名    0\n",
      "引取数     0\n",
      "殺処分数    0\n",
      "dtype: int64\n",
      "\n",
      "pre            0\n",
      "city           0\n",
      "寄附件数           0\n",
      "寄附金額           0\n",
      "寄附件数_県外        0\n",
      "寄附金額_県外        0\n",
      "返礼品の調達に係る費用    0\n",
      "返礼品の送付に係る費用    0\n",
      "広報に係る費用        0\n",
      "決済等に係る費用       0\n",
      "事務に係る費用        0\n",
      "その他費用          0\n",
      "広報活動           0\n",
      "呼びかけ           0\n",
      "見直し            0\n",
      "イベントPR         0\n",
      "決済             0\n",
      "用途選択           0\n",
      "分野を選択          0\n",
      "具体的な事業を選択      0\n",
      "クラウドファンディング    0\n",
      "まちづくり・市民活動     0\n",
      "スポーツ・文化振興      0\n",
      "健康・医療・福祉       0\n",
      "環境・衛生          0\n",
      "教育・人づくり        0\n",
      "子ども・子育て        0\n",
      "地域・産業振興        0\n",
      "観光・交流・定住促進     0\n",
      "安心・安全・防災       0\n",
      "災害支援・復興        0\n",
      "dtype: int64\n",
      "    自治体名   引取数  殺処分数\n",
      "42   熊本県  1447   242\n",
      "43   大分県  1560  1235\n",
      "44   宮崎県  1205   399\n",
      "45  鹿児島県  1662   562\n",
      "46   沖縄県  1873   519\n",
      "      pre  city  寄附件数       寄附金額 寄附件数_県外    寄附金額_県外 返礼品の調達に係る費用 返礼品の送付に係る費用  \\\n",
      "1783  沖縄県  久米島町  7551  132982000       0          0    41979000    10275000   \n",
      "1784  沖縄県  八重瀬町  9730  201319500    9725  201037500    57418104    11371802   \n",
      "1785  沖縄県  多良間村   971  147374000     971  147374000    58470700           0   \n",
      "1786  沖縄県   竹富町  3276   66810138    3276   66810138    29142028           0   \n",
      "1787  沖縄県  与那国町  1174   22113552    1173   22113552     6898572      136900   \n",
      "\n",
      "     広報に係る費用 決済等に係る費用  ... まちづくり・市民活動 スポーツ・文化振興 健康・医療・福祉 環境・衛生 教育・人づくり  \\\n",
      "1783       0  1071000  ...          1         0        0     1       1   \n",
      "1784       0  2231191  ...          0         1        1     1       1   \n",
      "1785   48600  1339566  ...          1         0        0     1       1   \n",
      "1786  302400   596561  ...          1         1        1     1       1   \n",
      "1787   84240   227420  ...          1         1        0     0       1   \n",
      "\n",
      "     子ども・子育て 地域・産業振興 観光・交流・定住促進 安心・安全・防災 災害支援・復興  \n",
      "1783       1       0          0        0       0  \n",
      "1784       0       1          1        1       0  \n",
      "1785       0       1          0        0       0  \n",
      "1786       0       1          0        0       0  \n",
      "1787       1       1          0        0       0  \n",
      "\n",
      "[5 rows x 31 columns]\n"
     ]
    }
   ],
   "source": [
    "#データの整理\n",
    "for i in range(len(df_killing)):\n",
    "    df_killing.iloc[i] = df_killing.iloc[i].str.replace(\" \",\"\")\n",
    "    df_killing.iloc[i] = df_killing.iloc[i].str.replace(\",\",\"\")\n",
    "df_killing = df_killing.fillna(0)\n",
    "\n",
    "print(df_killing.isnull().sum())\n",
    "print()\n",
    "\n",
    "for i in range(len(df_soumu)):\n",
    "    df_soumu.iloc[i] = df_soumu.iloc[i].str.replace(\" \",\"\")\n",
    "    df_soumu.iloc[i] = df_soumu.iloc[i].str.replace(\",\",\"\")\n",
    "df_soumu = df_soumu.replace(\"○\",\"1\")\n",
    "df_soumu = df_soumu.replace(\"①\",\"1\")\n",
    "df_soumu = df_soumu.replace(\"②\",\"2\")\n",
    "df_soumu = df_soumu.fillna(0)\n",
    "\n",
    "print(df_soumu.isnull().sum())\n",
    "\n",
    "print(df_killing.tail())\n",
    "print(df_soumu.tail())"
   ]
  },
  {
   "cell_type": "code",
   "execution_count": 9,
   "metadata": {},
   "outputs": [
    {
     "name": "stdout",
     "output_type": "stream",
     "text": [
      "(47, 3)\n",
      "\n",
      "(47, 30)\n",
      "\n",
      "[]\n"
     ]
    }
   ],
   "source": [
    "#必要なデータのみを抽出\n",
    "print(df_killing.shape)\n",
    "print()\n",
    "\n",
    "#都道府県(city=0)のみのデータを抽出\n",
    "df_soumu = df_soumu.query('city == 0')\n",
    "df_soumu2 = df_soumu.drop('city', axis=1)\n",
    "print(df_soumu2.shape)\n",
    "print()\n",
    "print(np.setxor1d(df_killing['自治体名'], df_soumu2['pre']))"
   ]
  },
  {
   "cell_type": "code",
   "execution_count": 10,
   "metadata": {},
   "outputs": [],
   "source": [
    "df_killing.to_csv('data/cleaned_killing_H30.csv', index=False)\n",
    "df_soumu2.to_csv('data/cleaned_soumu_H30.csv', index=False)"
   ]
  }
 ],
 "metadata": {
  "kernelspec": {
   "display_name": "py37_visualizer",
   "language": "python",
   "name": "py37_visualizer"
  },
  "language_info": {
   "codemirror_mode": {
    "name": "ipython",
    "version": 3
   },
   "file_extension": ".py",
   "mimetype": "text/x-python",
   "name": "python",
   "nbconvert_exporter": "python",
   "pygments_lexer": "ipython3",
   "version": "3.7.9"
  }
 },
 "nbformat": 4,
 "nbformat_minor": 4
}
