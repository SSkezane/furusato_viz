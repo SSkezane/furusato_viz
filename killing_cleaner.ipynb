{
 "cells": [
  {
   "cell_type": "code",
   "execution_count": 4,
   "metadata": {},
   "outputs": [],
   "source": [
    "import pandas as pd\n",
    "import numpy as np\n",
    "\n",
    "df = pd.read_csv('data/conversion_data/killing_H30.csv', usecols=['自治体名', '引取数', '殺処分数'])"
   ]
  },
  {
   "cell_type": "code",
   "execution_count": 5,
   "metadata": {},
   "outputs": [
    {
     "name": "stdout",
     "output_type": "stream",
     "text": [
      "自治体名    0\n",
      "引取数     0\n",
      "殺処分数    0\n",
      "dtype: int64\n",
      "\n",
      "(47, 3)\n"
     ]
    }
   ],
   "source": [
    "#データの整理\n",
    "for i in range(len(df)):\n",
    "    df.iloc[i] = df.iloc[i].str.replace(\" \",\"\")\n",
    "    df.iloc[i] = df.iloc[i].str.replace(\",\",\"\")\n",
    "df = df.fillna(0)\n",
    "\n",
    "print(df.isnull().sum())\n",
    "print()\n",
    "print(df.shape)"
   ]
  },
  {
   "cell_type": "code",
   "execution_count": 6,
   "metadata": {},
   "outputs": [],
   "source": [
    "df_killing.to_csv('data/cleaned_data/cleaned_killing_H30.csv', index=False)"
   ]
  },
  {
   "cell_type": "code",
   "execution_count": null,
   "metadata": {},
   "outputs": [],
   "source": []
  }
 ],
 "metadata": {
  "kernelspec": {
   "display_name": "py37_visualizer",
   "language": "python",
   "name": "py37_visualizer"
  },
  "language_info": {
   "codemirror_mode": {
    "name": "ipython",
    "version": 3
   },
   "file_extension": ".py",
   "mimetype": "text/x-python",
   "name": "python",
   "nbconvert_exporter": "python",
   "pygments_lexer": "ipython3",
   "version": "3.7.9"
  }
 },
 "nbformat": 4,
 "nbformat_minor": 4
}
